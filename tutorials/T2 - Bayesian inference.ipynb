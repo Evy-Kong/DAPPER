{
 "cells": [
  {
   "cell_type": "code",
   "execution_count": 2,
   "metadata": {
    "collapsed": false
   },
   "outputs": [
    {
     "name": "stdout",
     "output_type": "stream",
     "text": [
      "/Users/pataan/Dropbox/DPhil/DAPPER\n",
      "Initializing DAPPER...Done\n"
     ]
    }
   ],
   "source": [
    "from resources.workspace import *"
   ]
  },
  {
   "cell_type": "markdown",
   "metadata": {},
   "source": [
    "# The Gaussian (i.e. Normal) distribution"
   ]
  },
  {
   "cell_type": "markdown",
   "metadata": {},
   "source": [
    "Consider the random variable with a Gaussian distribution with mean $b$ (`b`) and variance $B$. We write its probability density function (**pdf**) as\n",
    "$$ p(x) = N(x \\mid b,B) = (2 \\pi B)^{-1/2} e^{-(x-b)^2/2P} \\, .  \\qquad \\qquad (G1) $$"
   ]
  },
  {
   "cell_type": "markdown",
   "metadata": {},
   "source": [
    "**Exc 2.2:** Code it up (complete the code below)! Hints:\n",
    "* Note that `**` is the power operator in Python.\n",
    "* As in Matlab, $e^x$ is available as `exp(x)`"
   ]
  },
  {
   "cell_type": "code",
   "execution_count": 6,
   "metadata": {
    "collapsed": false
   },
   "outputs": [],
   "source": [
    "# Univariate (scalar), Gaussian pdf\n",
    "def pdf_G1(x,b,B):\n",
    "    # pdf_values = ### INSERT ANSWER HERE ###\n",
    "    pdf_values = 1/sqrt(2*pi*B)*exp(-0.5*(x-b)**2/B)\n",
    "    # Version using the scipy (sp) library:\n",
    "    # pdf_values = sp.stats.norm.pdf(x,loc=b,scale=sqrt(B))\n",
    "    return pdf_values"
   ]
  },
  {
   "cell_type": "code",
   "execution_count": 7,
   "metadata": {
    "collapsed": false
   },
   "outputs": [],
   "source": [
    "#show_answer('pdf_G1')"
   ]
  },
  {
   "cell_type": "markdown",
   "metadata": {},
   "source": [
    "\n",
    "Let's plot the pdf."
   ]
  },
  {
   "cell_type": "code",
   "execution_count": 8,
   "metadata": {
    "collapsed": false
   },
   "outputs": [
    {
     "data": {
      "application/javascript": [
       "/* Put everything inside the global mpl namespace */\n",
       "window.mpl = {};\n",
       "\n",
       "\n",
       "mpl.get_websocket_type = function() {\n",
       "    if (typeof(WebSocket) !== 'undefined') {\n",
       "        return WebSocket;\n",
       "    } else if (typeof(MozWebSocket) !== 'undefined') {\n",
       "        return MozWebSocket;\n",
       "    } else {\n",
       "        alert('Your browser does not have WebSocket support.' +\n",
       "              'Please try Chrome, Safari or Firefox ≥ 6. ' +\n",
       "              'Firefox 4 and 5 are also supported but you ' +\n",
       "              'have to enable WebSockets in about:config.');\n",
       "    };\n",
       "}\n",
       "\n",
       "mpl.figure = function(figure_id, websocket, ondownload, parent_element) {\n",
       "    this.id = figure_id;\n",
       "\n",
       "    this.ws = websocket;\n",
       "\n",
       "    this.supports_binary = (this.ws.binaryType != undefined);\n",
       "\n",
       "    if (!this.supports_binary) {\n",
       "        var warnings = document.getElementById(\"mpl-warnings\");\n",
       "        if (warnings) {\n",
       "            warnings.style.display = 'block';\n",
       "            warnings.textContent = (\n",
       "                \"This browser does not support binary websocket messages. \" +\n",
       "                    \"Performance may be slow.\");\n",
       "        }\n",
       "    }\n",
       "\n",
       "    this.imageObj = new Image();\n",
       "\n",
       "    this.context = undefined;\n",
       "    this.message = undefined;\n",
       "    this.canvas = undefined;\n",
       "    this.rubberband_canvas = undefined;\n",
       "    this.rubberband_context = undefined;\n",
       "    this.format_dropdown = undefined;\n",
       "\n",
       "    this.image_mode = 'full';\n",
       "\n",
       "    this.root = $('<div/>');\n",
       "    this._root_extra_style(this.root)\n",
       "    this.root.attr('style', 'display: inline-block');\n",
       "\n",
       "    $(parent_element).append(this.root);\n",
       "\n",
       "    this._init_header(this);\n",
       "    this._init_canvas(this);\n",
       "    this._init_toolbar(this);\n",
       "\n",
       "    var fig = this;\n",
       "\n",
       "    this.waiting = false;\n",
       "\n",
       "    this.ws.onopen =  function () {\n",
       "            fig.send_message(\"supports_binary\", {value: fig.supports_binary});\n",
       "            fig.send_message(\"send_image_mode\", {});\n",
       "            if (mpl.ratio != 1) {\n",
       "                fig.send_message(\"set_dpi_ratio\", {'dpi_ratio': mpl.ratio});\n",
       "            }\n",
       "            fig.send_message(\"refresh\", {});\n",
       "        }\n",
       "\n",
       "    this.imageObj.onload = function() {\n",
       "            if (fig.image_mode == 'full') {\n",
       "                // Full images could contain transparency (where diff images\n",
       "                // almost always do), so we need to clear the canvas so that\n",
       "                // there is no ghosting.\n",
       "                fig.context.clearRect(0, 0, fig.canvas.width, fig.canvas.height);\n",
       "            }\n",
       "            fig.context.drawImage(fig.imageObj, 0, 0);\n",
       "        };\n",
       "\n",
       "    this.imageObj.onunload = function() {\n",
       "        this.ws.close();\n",
       "    }\n",
       "\n",
       "    this.ws.onmessage = this._make_on_message_function(this);\n",
       "\n",
       "    this.ondownload = ondownload;\n",
       "}\n",
       "\n",
       "mpl.figure.prototype._init_header = function() {\n",
       "    var titlebar = $(\n",
       "        '<div class=\"ui-dialog-titlebar ui-widget-header ui-corner-all ' +\n",
       "        'ui-helper-clearfix\"/>');\n",
       "    var titletext = $(\n",
       "        '<div class=\"ui-dialog-title\" style=\"width: 100%; ' +\n",
       "        'text-align: center; padding: 3px;\"/>');\n",
       "    titlebar.append(titletext)\n",
       "    this.root.append(titlebar);\n",
       "    this.header = titletext[0];\n",
       "}\n",
       "\n",
       "\n",
       "\n",
       "mpl.figure.prototype._canvas_extra_style = function(canvas_div) {\n",
       "\n",
       "}\n",
       "\n",
       "\n",
       "mpl.figure.prototype._root_extra_style = function(canvas_div) {\n",
       "\n",
       "}\n",
       "\n",
       "mpl.figure.prototype._init_canvas = function() {\n",
       "    var fig = this;\n",
       "\n",
       "    var canvas_div = $('<div/>');\n",
       "\n",
       "    canvas_div.attr('style', 'position: relative; clear: both; outline: 0');\n",
       "\n",
       "    function canvas_keyboard_event(event) {\n",
       "        return fig.key_event(event, event['data']);\n",
       "    }\n",
       "\n",
       "    canvas_div.keydown('key_press', canvas_keyboard_event);\n",
       "    canvas_div.keyup('key_release', canvas_keyboard_event);\n",
       "    this.canvas_div = canvas_div\n",
       "    this._canvas_extra_style(canvas_div)\n",
       "    this.root.append(canvas_div);\n",
       "\n",
       "    var canvas = $('<canvas/>');\n",
       "    canvas.addClass('mpl-canvas');\n",
       "    canvas.attr('style', \"left: 0; top: 0; z-index: 0; outline: 0\")\n",
       "\n",
       "    this.canvas = canvas[0];\n",
       "    this.context = canvas[0].getContext(\"2d\");\n",
       "\n",
       "    var backingStore = this.context.backingStorePixelRatio ||\n",
       "\tthis.context.webkitBackingStorePixelRatio ||\n",
       "\tthis.context.mozBackingStorePixelRatio ||\n",
       "\tthis.context.msBackingStorePixelRatio ||\n",
       "\tthis.context.oBackingStorePixelRatio ||\n",
       "\tthis.context.backingStorePixelRatio || 1;\n",
       "\n",
       "    mpl.ratio = (window.devicePixelRatio || 1) / backingStore;\n",
       "\n",
       "    var rubberband = $('<canvas/>');\n",
       "    rubberband.attr('style', \"position: absolute; left: 0; top: 0; z-index: 1;\")\n",
       "\n",
       "    var pass_mouse_events = true;\n",
       "\n",
       "    canvas_div.resizable({\n",
       "        start: function(event, ui) {\n",
       "            pass_mouse_events = false;\n",
       "        },\n",
       "        resize: function(event, ui) {\n",
       "            fig.request_resize(ui.size.width, ui.size.height);\n",
       "        },\n",
       "        stop: function(event, ui) {\n",
       "            pass_mouse_events = true;\n",
       "            fig.request_resize(ui.size.width, ui.size.height);\n",
       "        },\n",
       "    });\n",
       "\n",
       "    function mouse_event_fn(event) {\n",
       "        if (pass_mouse_events)\n",
       "            return fig.mouse_event(event, event['data']);\n",
       "    }\n",
       "\n",
       "    rubberband.mousedown('button_press', mouse_event_fn);\n",
       "    rubberband.mouseup('button_release', mouse_event_fn);\n",
       "    // Throttle sequential mouse events to 1 every 20ms.\n",
       "    rubberband.mousemove('motion_notify', mouse_event_fn);\n",
       "\n",
       "    rubberband.mouseenter('figure_enter', mouse_event_fn);\n",
       "    rubberband.mouseleave('figure_leave', mouse_event_fn);\n",
       "\n",
       "    canvas_div.on(\"wheel\", function (event) {\n",
       "        event = event.originalEvent;\n",
       "        event['data'] = 'scroll'\n",
       "        if (event.deltaY < 0) {\n",
       "            event.step = 1;\n",
       "        } else {\n",
       "            event.step = -1;\n",
       "        }\n",
       "        mouse_event_fn(event);\n",
       "    });\n",
       "\n",
       "    canvas_div.append(canvas);\n",
       "    canvas_div.append(rubberband);\n",
       "\n",
       "    this.rubberband = rubberband;\n",
       "    this.rubberband_canvas = rubberband[0];\n",
       "    this.rubberband_context = rubberband[0].getContext(\"2d\");\n",
       "    this.rubberband_context.strokeStyle = \"#000000\";\n",
       "\n",
       "    this._resize_canvas = function(width, height) {\n",
       "        // Keep the size of the canvas, canvas container, and rubber band\n",
       "        // canvas in synch.\n",
       "        canvas_div.css('width', width)\n",
       "        canvas_div.css('height', height)\n",
       "\n",
       "        canvas.attr('width', width * mpl.ratio);\n",
       "        canvas.attr('height', height * mpl.ratio);\n",
       "        canvas.attr('style', 'width: ' + width + 'px; height: ' + height + 'px;');\n",
       "\n",
       "        rubberband.attr('width', width);\n",
       "        rubberband.attr('height', height);\n",
       "    }\n",
       "\n",
       "    // Set the figure to an initial 600x600px, this will subsequently be updated\n",
       "    // upon first draw.\n",
       "    this._resize_canvas(600, 600);\n",
       "\n",
       "    // Disable right mouse context menu.\n",
       "    $(this.rubberband_canvas).bind(\"contextmenu\",function(e){\n",
       "        return false;\n",
       "    });\n",
       "\n",
       "    function set_focus () {\n",
       "        canvas.focus();\n",
       "        canvas_div.focus();\n",
       "    }\n",
       "\n",
       "    window.setTimeout(set_focus, 100);\n",
       "}\n",
       "\n",
       "mpl.figure.prototype._init_toolbar = function() {\n",
       "    var fig = this;\n",
       "\n",
       "    var nav_element = $('<div/>')\n",
       "    nav_element.attr('style', 'width: 100%');\n",
       "    this.root.append(nav_element);\n",
       "\n",
       "    // Define a callback function for later on.\n",
       "    function toolbar_event(event) {\n",
       "        return fig.toolbar_button_onclick(event['data']);\n",
       "    }\n",
       "    function toolbar_mouse_event(event) {\n",
       "        return fig.toolbar_button_onmouseover(event['data']);\n",
       "    }\n",
       "\n",
       "    for(var toolbar_ind in mpl.toolbar_items) {\n",
       "        var name = mpl.toolbar_items[toolbar_ind][0];\n",
       "        var tooltip = mpl.toolbar_items[toolbar_ind][1];\n",
       "        var image = mpl.toolbar_items[toolbar_ind][2];\n",
       "        var method_name = mpl.toolbar_items[toolbar_ind][3];\n",
       "\n",
       "        if (!name) {\n",
       "            // put a spacer in here.\n",
       "            continue;\n",
       "        }\n",
       "        var button = $('<button/>');\n",
       "        button.addClass('ui-button ui-widget ui-state-default ui-corner-all ' +\n",
       "                        'ui-button-icon-only');\n",
       "        button.attr('role', 'button');\n",
       "        button.attr('aria-disabled', 'false');\n",
       "        button.click(method_name, toolbar_event);\n",
       "        button.mouseover(tooltip, toolbar_mouse_event);\n",
       "\n",
       "        var icon_img = $('<span/>');\n",
       "        icon_img.addClass('ui-button-icon-primary ui-icon');\n",
       "        icon_img.addClass(image);\n",
       "        icon_img.addClass('ui-corner-all');\n",
       "\n",
       "        var tooltip_span = $('<span/>');\n",
       "        tooltip_span.addClass('ui-button-text');\n",
       "        tooltip_span.html(tooltip);\n",
       "\n",
       "        button.append(icon_img);\n",
       "        button.append(tooltip_span);\n",
       "\n",
       "        nav_element.append(button);\n",
       "    }\n",
       "\n",
       "    var fmt_picker_span = $('<span/>');\n",
       "\n",
       "    var fmt_picker = $('<select/>');\n",
       "    fmt_picker.addClass('mpl-toolbar-option ui-widget ui-widget-content');\n",
       "    fmt_picker_span.append(fmt_picker);\n",
       "    nav_element.append(fmt_picker_span);\n",
       "    this.format_dropdown = fmt_picker[0];\n",
       "\n",
       "    for (var ind in mpl.extensions) {\n",
       "        var fmt = mpl.extensions[ind];\n",
       "        var option = $(\n",
       "            '<option/>', {selected: fmt === mpl.default_extension}).html(fmt);\n",
       "        fmt_picker.append(option)\n",
       "    }\n",
       "\n",
       "    // Add hover states to the ui-buttons\n",
       "    $( \".ui-button\" ).hover(\n",
       "        function() { $(this).addClass(\"ui-state-hover\");},\n",
       "        function() { $(this).removeClass(\"ui-state-hover\");}\n",
       "    );\n",
       "\n",
       "    var status_bar = $('<span class=\"mpl-message\"/>');\n",
       "    nav_element.append(status_bar);\n",
       "    this.message = status_bar[0];\n",
       "}\n",
       "\n",
       "mpl.figure.prototype.request_resize = function(x_pixels, y_pixels) {\n",
       "    // Request matplotlib to resize the figure. Matplotlib will then trigger a resize in the client,\n",
       "    // which will in turn request a refresh of the image.\n",
       "    this.send_message('resize', {'width': x_pixels, 'height': y_pixels});\n",
       "}\n",
       "\n",
       "mpl.figure.prototype.send_message = function(type, properties) {\n",
       "    properties['type'] = type;\n",
       "    properties['figure_id'] = this.id;\n",
       "    this.ws.send(JSON.stringify(properties));\n",
       "}\n",
       "\n",
       "mpl.figure.prototype.send_draw_message = function() {\n",
       "    if (!this.waiting) {\n",
       "        this.waiting = true;\n",
       "        this.ws.send(JSON.stringify({type: \"draw\", figure_id: this.id}));\n",
       "    }\n",
       "}\n",
       "\n",
       "\n",
       "mpl.figure.prototype.handle_save = function(fig, msg) {\n",
       "    var format_dropdown = fig.format_dropdown;\n",
       "    var format = format_dropdown.options[format_dropdown.selectedIndex].value;\n",
       "    fig.ondownload(fig, format);\n",
       "}\n",
       "\n",
       "\n",
       "mpl.figure.prototype.handle_resize = function(fig, msg) {\n",
       "    var size = msg['size'];\n",
       "    if (size[0] != fig.canvas.width || size[1] != fig.canvas.height) {\n",
       "        fig._resize_canvas(size[0], size[1]);\n",
       "        fig.send_message(\"refresh\", {});\n",
       "    };\n",
       "}\n",
       "\n",
       "mpl.figure.prototype.handle_rubberband = function(fig, msg) {\n",
       "    var x0 = msg['x0'] / mpl.ratio;\n",
       "    var y0 = (fig.canvas.height - msg['y0']) / mpl.ratio;\n",
       "    var x1 = msg['x1'] / mpl.ratio;\n",
       "    var y1 = (fig.canvas.height - msg['y1']) / mpl.ratio;\n",
       "    x0 = Math.floor(x0) + 0.5;\n",
       "    y0 = Math.floor(y0) + 0.5;\n",
       "    x1 = Math.floor(x1) + 0.5;\n",
       "    y1 = Math.floor(y1) + 0.5;\n",
       "    var min_x = Math.min(x0, x1);\n",
       "    var min_y = Math.min(y0, y1);\n",
       "    var width = Math.abs(x1 - x0);\n",
       "    var height = Math.abs(y1 - y0);\n",
       "\n",
       "    fig.rubberband_context.clearRect(\n",
       "        0, 0, fig.canvas.width, fig.canvas.height);\n",
       "\n",
       "    fig.rubberband_context.strokeRect(min_x, min_y, width, height);\n",
       "}\n",
       "\n",
       "mpl.figure.prototype.handle_figure_label = function(fig, msg) {\n",
       "    // Updates the figure title.\n",
       "    fig.header.textContent = msg['label'];\n",
       "}\n",
       "\n",
       "mpl.figure.prototype.handle_cursor = function(fig, msg) {\n",
       "    var cursor = msg['cursor'];\n",
       "    switch(cursor)\n",
       "    {\n",
       "    case 0:\n",
       "        cursor = 'pointer';\n",
       "        break;\n",
       "    case 1:\n",
       "        cursor = 'default';\n",
       "        break;\n",
       "    case 2:\n",
       "        cursor = 'crosshair';\n",
       "        break;\n",
       "    case 3:\n",
       "        cursor = 'move';\n",
       "        break;\n",
       "    }\n",
       "    fig.rubberband_canvas.style.cursor = cursor;\n",
       "}\n",
       "\n",
       "mpl.figure.prototype.handle_message = function(fig, msg) {\n",
       "    fig.message.textContent = msg['message'];\n",
       "}\n",
       "\n",
       "mpl.figure.prototype.handle_draw = function(fig, msg) {\n",
       "    // Request the server to send over a new figure.\n",
       "    fig.send_draw_message();\n",
       "}\n",
       "\n",
       "mpl.figure.prototype.handle_image_mode = function(fig, msg) {\n",
       "    fig.image_mode = msg['mode'];\n",
       "}\n",
       "\n",
       "mpl.figure.prototype.updated_canvas_event = function() {\n",
       "    // Called whenever the canvas gets updated.\n",
       "    this.send_message(\"ack\", {});\n",
       "}\n",
       "\n",
       "// A function to construct a web socket function for onmessage handling.\n",
       "// Called in the figure constructor.\n",
       "mpl.figure.prototype._make_on_message_function = function(fig) {\n",
       "    return function socket_on_message(evt) {\n",
       "        if (evt.data instanceof Blob) {\n",
       "            /* FIXME: We get \"Resource interpreted as Image but\n",
       "             * transferred with MIME type text/plain:\" errors on\n",
       "             * Chrome.  But how to set the MIME type?  It doesn't seem\n",
       "             * to be part of the websocket stream */\n",
       "            evt.data.type = \"image/png\";\n",
       "\n",
       "            /* Free the memory for the previous frames */\n",
       "            if (fig.imageObj.src) {\n",
       "                (window.URL || window.webkitURL).revokeObjectURL(\n",
       "                    fig.imageObj.src);\n",
       "            }\n",
       "\n",
       "            fig.imageObj.src = (window.URL || window.webkitURL).createObjectURL(\n",
       "                evt.data);\n",
       "            fig.updated_canvas_event();\n",
       "            fig.waiting = false;\n",
       "            return;\n",
       "        }\n",
       "        else if (typeof evt.data === 'string' && evt.data.slice(0, 21) == \"data:image/png;base64\") {\n",
       "            fig.imageObj.src = evt.data;\n",
       "            fig.updated_canvas_event();\n",
       "            fig.waiting = false;\n",
       "            return;\n",
       "        }\n",
       "\n",
       "        var msg = JSON.parse(evt.data);\n",
       "        var msg_type = msg['type'];\n",
       "\n",
       "        // Call the  \"handle_{type}\" callback, which takes\n",
       "        // the figure and JSON message as its only arguments.\n",
       "        try {\n",
       "            var callback = fig[\"handle_\" + msg_type];\n",
       "        } catch (e) {\n",
       "            console.log(\"No handler for the '\" + msg_type + \"' message type: \", msg);\n",
       "            return;\n",
       "        }\n",
       "\n",
       "        if (callback) {\n",
       "            try {\n",
       "                // console.log(\"Handling '\" + msg_type + \"' message: \", msg);\n",
       "                callback(fig, msg);\n",
       "            } catch (e) {\n",
       "                console.log(\"Exception inside the 'handler_\" + msg_type + \"' callback:\", e, e.stack, msg);\n",
       "            }\n",
       "        }\n",
       "    };\n",
       "}\n",
       "\n",
       "// from http://stackoverflow.com/questions/1114465/getting-mouse-location-in-canvas\n",
       "mpl.findpos = function(e) {\n",
       "    //this section is from http://www.quirksmode.org/js/events_properties.html\n",
       "    var targ;\n",
       "    if (!e)\n",
       "        e = window.event;\n",
       "    if (e.target)\n",
       "        targ = e.target;\n",
       "    else if (e.srcElement)\n",
       "        targ = e.srcElement;\n",
       "    if (targ.nodeType == 3) // defeat Safari bug\n",
       "        targ = targ.parentNode;\n",
       "\n",
       "    // jQuery normalizes the pageX and pageY\n",
       "    // pageX,Y are the mouse positions relative to the document\n",
       "    // offset() returns the position of the element relative to the document\n",
       "    var x = e.pageX - $(targ).offset().left;\n",
       "    var y = e.pageY - $(targ).offset().top;\n",
       "\n",
       "    return {\"x\": x, \"y\": y};\n",
       "};\n",
       "\n",
       "/*\n",
       " * return a copy of an object with only non-object keys\n",
       " * we need this to avoid circular references\n",
       " * http://stackoverflow.com/a/24161582/3208463\n",
       " */\n",
       "function simpleKeys (original) {\n",
       "  return Object.keys(original).reduce(function (obj, key) {\n",
       "    if (typeof original[key] !== 'object')\n",
       "        obj[key] = original[key]\n",
       "    return obj;\n",
       "  }, {});\n",
       "}\n",
       "\n",
       "mpl.figure.prototype.mouse_event = function(event, name) {\n",
       "    var canvas_pos = mpl.findpos(event)\n",
       "\n",
       "    if (name === 'button_press')\n",
       "    {\n",
       "        this.canvas.focus();\n",
       "        this.canvas_div.focus();\n",
       "    }\n",
       "\n",
       "    var x = canvas_pos.x * mpl.ratio;\n",
       "    var y = canvas_pos.y * mpl.ratio;\n",
       "\n",
       "    this.send_message(name, {x: x, y: y, button: event.button,\n",
       "                             step: event.step,\n",
       "                             guiEvent: simpleKeys(event)});\n",
       "\n",
       "    /* This prevents the web browser from automatically changing to\n",
       "     * the text insertion cursor when the button is pressed.  We want\n",
       "     * to control all of the cursor setting manually through the\n",
       "     * 'cursor' event from matplotlib */\n",
       "    event.preventDefault();\n",
       "    return false;\n",
       "}\n",
       "\n",
       "mpl.figure.prototype._key_event_extra = function(event, name) {\n",
       "    // Handle any extra behaviour associated with a key event\n",
       "}\n",
       "\n",
       "mpl.figure.prototype.key_event = function(event, name) {\n",
       "\n",
       "    // Prevent repeat events\n",
       "    if (name == 'key_press')\n",
       "    {\n",
       "        if (event.which === this._key)\n",
       "            return;\n",
       "        else\n",
       "            this._key = event.which;\n",
       "    }\n",
       "    if (name == 'key_release')\n",
       "        this._key = null;\n",
       "\n",
       "    var value = '';\n",
       "    if (event.ctrlKey && event.which != 17)\n",
       "        value += \"ctrl+\";\n",
       "    if (event.altKey && event.which != 18)\n",
       "        value += \"alt+\";\n",
       "    if (event.shiftKey && event.which != 16)\n",
       "        value += \"shift+\";\n",
       "\n",
       "    value += 'k';\n",
       "    value += event.which.toString();\n",
       "\n",
       "    this._key_event_extra(event, name);\n",
       "\n",
       "    this.send_message(name, {key: value,\n",
       "                             guiEvent: simpleKeys(event)});\n",
       "    return false;\n",
       "}\n",
       "\n",
       "mpl.figure.prototype.toolbar_button_onclick = function(name) {\n",
       "    if (name == 'download') {\n",
       "        this.handle_save(this, null);\n",
       "    } else {\n",
       "        this.send_message(\"toolbar_button\", {name: name});\n",
       "    }\n",
       "};\n",
       "\n",
       "mpl.figure.prototype.toolbar_button_onmouseover = function(tooltip) {\n",
       "    this.message.textContent = tooltip;\n",
       "};\n",
       "mpl.toolbar_items = [[\"Home\", \"Reset original view\", \"fa fa-home icon-home\", \"home\"], [\"Back\", \"Back to  previous view\", \"fa fa-arrow-left icon-arrow-left\", \"back\"], [\"Forward\", \"Forward to next view\", \"fa fa-arrow-right icon-arrow-right\", \"forward\"], [\"\", \"\", \"\", \"\"], [\"Pan\", \"Pan axes with left mouse, zoom with right\", \"fa fa-arrows icon-move\", \"pan\"], [\"Zoom\", \"Zoom to rectangle\", \"fa fa-square-o icon-check-empty\", \"zoom\"], [\"\", \"\", \"\", \"\"], [\"Download\", \"Download plot\", \"fa fa-floppy-o icon-save\", \"download\"]];\n",
       "\n",
       "mpl.extensions = [\"eps\", \"jpeg\", \"pdf\", \"png\", \"ps\", \"raw\", \"svg\", \"tif\"];\n",
       "\n",
       "mpl.default_extension = \"png\";var comm_websocket_adapter = function(comm) {\n",
       "    // Create a \"websocket\"-like object which calls the given IPython comm\n",
       "    // object with the appropriate methods. Currently this is a non binary\n",
       "    // socket, so there is still some room for performance tuning.\n",
       "    var ws = {};\n",
       "\n",
       "    ws.close = function() {\n",
       "        comm.close()\n",
       "    };\n",
       "    ws.send = function(m) {\n",
       "        //console.log('sending', m);\n",
       "        comm.send(m);\n",
       "    };\n",
       "    // Register the callback with on_msg.\n",
       "    comm.on_msg(function(msg) {\n",
       "        //console.log('receiving', msg['content']['data'], msg);\n",
       "        // Pass the mpl event to the overriden (by mpl) onmessage function.\n",
       "        ws.onmessage(msg['content']['data'])\n",
       "    });\n",
       "    return ws;\n",
       "}\n",
       "\n",
       "mpl.mpl_figure_comm = function(comm, msg) {\n",
       "    // This is the function which gets called when the mpl process\n",
       "    // starts-up an IPython Comm through the \"matplotlib\" channel.\n",
       "\n",
       "    var id = msg.content.data.id;\n",
       "    // Get hold of the div created by the display call when the Comm\n",
       "    // socket was opened in Python.\n",
       "    var element = $(\"#\" + id);\n",
       "    var ws_proxy = comm_websocket_adapter(comm)\n",
       "\n",
       "    function ondownload(figure, format) {\n",
       "        window.open(figure.imageObj.src);\n",
       "    }\n",
       "\n",
       "    var fig = new mpl.figure(id, ws_proxy,\n",
       "                           ondownload,\n",
       "                           element.get(0));\n",
       "\n",
       "    // Call onopen now - mpl needs it, as it is assuming we've passed it a real\n",
       "    // web socket which is closed, not our websocket->open comm proxy.\n",
       "    ws_proxy.onopen();\n",
       "\n",
       "    fig.parent_element = element.get(0);\n",
       "    fig.cell_info = mpl.find_output_cell(\"<div id='\" + id + \"'></div>\");\n",
       "    if (!fig.cell_info) {\n",
       "        console.error(\"Failed to find cell for figure\", id, fig);\n",
       "        return;\n",
       "    }\n",
       "\n",
       "    var output_index = fig.cell_info[2]\n",
       "    var cell = fig.cell_info[0];\n",
       "\n",
       "};\n",
       "\n",
       "mpl.figure.prototype.handle_close = function(fig, msg) {\n",
       "    var width = fig.canvas.width/mpl.ratio\n",
       "    fig.root.unbind('remove')\n",
       "\n",
       "    // Update the output cell to use the data from the current canvas.\n",
       "    fig.push_to_output();\n",
       "    var dataURL = fig.canvas.toDataURL();\n",
       "    // Re-enable the keyboard manager in IPython - without this line, in FF,\n",
       "    // the notebook keyboard shortcuts fail.\n",
       "    IPython.keyboard_manager.enable()\n",
       "    $(fig.parent_element).html('<img src=\"' + dataURL + '\" width=\"' + width + '\">');\n",
       "    fig.close_ws(fig, msg);\n",
       "}\n",
       "\n",
       "mpl.figure.prototype.close_ws = function(fig, msg){\n",
       "    fig.send_message('closing', msg);\n",
       "    // fig.ws.close()\n",
       "}\n",
       "\n",
       "mpl.figure.prototype.push_to_output = function(remove_interactive) {\n",
       "    // Turn the data on the canvas into data in the output cell.\n",
       "    var width = this.canvas.width/mpl.ratio\n",
       "    var dataURL = this.canvas.toDataURL();\n",
       "    this.cell_info[1]['text/html'] = '<img src=\"' + dataURL + '\" width=\"' + width + '\">';\n",
       "}\n",
       "\n",
       "mpl.figure.prototype.updated_canvas_event = function() {\n",
       "    // Tell IPython that the notebook contents must change.\n",
       "    IPython.notebook.set_dirty(true);\n",
       "    this.send_message(\"ack\", {});\n",
       "    var fig = this;\n",
       "    // Wait a second, then push the new image to the DOM so\n",
       "    // that it is saved nicely (might be nice to debounce this).\n",
       "    setTimeout(function () { fig.push_to_output() }, 1000);\n",
       "}\n",
       "\n",
       "mpl.figure.prototype._init_toolbar = function() {\n",
       "    var fig = this;\n",
       "\n",
       "    var nav_element = $('<div/>')\n",
       "    nav_element.attr('style', 'width: 100%');\n",
       "    this.root.append(nav_element);\n",
       "\n",
       "    // Define a callback function for later on.\n",
       "    function toolbar_event(event) {\n",
       "        return fig.toolbar_button_onclick(event['data']);\n",
       "    }\n",
       "    function toolbar_mouse_event(event) {\n",
       "        return fig.toolbar_button_onmouseover(event['data']);\n",
       "    }\n",
       "\n",
       "    for(var toolbar_ind in mpl.toolbar_items){\n",
       "        var name = mpl.toolbar_items[toolbar_ind][0];\n",
       "        var tooltip = mpl.toolbar_items[toolbar_ind][1];\n",
       "        var image = mpl.toolbar_items[toolbar_ind][2];\n",
       "        var method_name = mpl.toolbar_items[toolbar_ind][3];\n",
       "\n",
       "        if (!name) { continue; };\n",
       "\n",
       "        var button = $('<button class=\"btn btn-default\" href=\"#\" title=\"' + name + '\"><i class=\"fa ' + image + ' fa-lg\"></i></button>');\n",
       "        button.click(method_name, toolbar_event);\n",
       "        button.mouseover(tooltip, toolbar_mouse_event);\n",
       "        nav_element.append(button);\n",
       "    }\n",
       "\n",
       "    // Add the status bar.\n",
       "    var status_bar = $('<span class=\"mpl-message\" style=\"text-align:right; float: right;\"/>');\n",
       "    nav_element.append(status_bar);\n",
       "    this.message = status_bar[0];\n",
       "\n",
       "    // Add the close button to the window.\n",
       "    var buttongrp = $('<div class=\"btn-group inline pull-right\"></div>');\n",
       "    var button = $('<button class=\"btn btn-mini btn-primary\" href=\"#\" title=\"Stop Interaction\"><i class=\"fa fa-power-off icon-remove icon-large\"></i></button>');\n",
       "    button.click(function (evt) { fig.handle_close(fig, {}); } );\n",
       "    button.mouseover('Stop Interaction', toolbar_mouse_event);\n",
       "    buttongrp.append(button);\n",
       "    var titlebar = this.root.find($('.ui-dialog-titlebar'));\n",
       "    titlebar.prepend(buttongrp);\n",
       "}\n",
       "\n",
       "mpl.figure.prototype._root_extra_style = function(el){\n",
       "    var fig = this\n",
       "    el.on(\"remove\", function(){\n",
       "\tfig.close_ws(fig, {});\n",
       "    });\n",
       "}\n",
       "\n",
       "mpl.figure.prototype._canvas_extra_style = function(el){\n",
       "    // this is important to make the div 'focusable\n",
       "    el.attr('tabindex', 0)\n",
       "    // reach out to IPython and tell the keyboard manager to turn it's self\n",
       "    // off when our div gets focus\n",
       "\n",
       "    // location in version 3\n",
       "    if (IPython.notebook.keyboard_manager) {\n",
       "        IPython.notebook.keyboard_manager.register_events(el);\n",
       "    }\n",
       "    else {\n",
       "        // location in version 2\n",
       "        IPython.keyboard_manager.register_events(el);\n",
       "    }\n",
       "\n",
       "}\n",
       "\n",
       "mpl.figure.prototype._key_event_extra = function(event, name) {\n",
       "    var manager = IPython.notebook.keyboard_manager;\n",
       "    if (!manager)\n",
       "        manager = IPython.keyboard_manager;\n",
       "\n",
       "    // Check for shift+enter\n",
       "    if (event.shiftKey && event.which == 13) {\n",
       "        this.canvas_div.blur();\n",
       "        // select the cell after this one\n",
       "        var index = IPython.notebook.find_cell_index(this.cell_info[0]);\n",
       "        IPython.notebook.select(index + 1);\n",
       "    }\n",
       "}\n",
       "\n",
       "mpl.figure.prototype.handle_save = function(fig, msg) {\n",
       "    fig.ondownload(fig, null);\n",
       "}\n",
       "\n",
       "\n",
       "mpl.find_output_cell = function(html_output) {\n",
       "    // Return the cell and output element which can be found *uniquely* in the notebook.\n",
       "    // Note - this is a bit hacky, but it is done because the \"notebook_saving.Notebook\"\n",
       "    // IPython event is triggered only after the cells have been serialised, which for\n",
       "    // our purposes (turning an active figure into a static one), is too late.\n",
       "    var cells = IPython.notebook.get_cells();\n",
       "    var ncells = cells.length;\n",
       "    for (var i=0; i<ncells; i++) {\n",
       "        var cell = cells[i];\n",
       "        if (cell.cell_type === 'code'){\n",
       "            for (var j=0; j<cell.output_area.outputs.length; j++) {\n",
       "                var data = cell.output_area.outputs[j];\n",
       "                if (data.data) {\n",
       "                    // IPython >= 3 moved mimebundle to data attribute of output\n",
       "                    data = data.data;\n",
       "                }\n",
       "                if (data['text/html'] == html_output) {\n",
       "                    return [cell, data, j];\n",
       "                }\n",
       "            }\n",
       "        }\n",
       "    }\n",
       "}\n",
       "\n",
       "// Register the function which deals with the matplotlib target/channel.\n",
       "// The kernel may be null if the page has been refreshed.\n",
       "if (IPython.notebook.kernel != null) {\n",
       "    IPython.notebook.kernel.comm_manager.register_target('matplotlib', mpl.mpl_figure_comm);\n",
       "}\n"
      ],
      "text/plain": [
       "<IPython.core.display.Javascript object>"
      ]
     },
     "metadata": {},
     "output_type": "display_data"
    },
    {
     "data": {
      "text/html": [
       "<img src=\"data:image/png;base64,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\" width=\"639.9999861283738\">"
      ],
      "text/plain": [
       "<IPython.core.display.HTML object>"
      ]
     },
     "metadata": {},
     "output_type": "display_data"
    }
   ],
   "source": [
    "b  = 0                  # mean     of distribution\n",
    "B  = 25                 # variance of distribution\n",
    "\n",
    "# Plotting\n",
    "N  = 201                # num of grid points\n",
    "xx = linspace(-20,20,N) # grid\n",
    "dx = xx[1]-xx[0]        # grid spacing\n",
    "pp = pdf_G1(xx,b,B)     # pdf values\n",
    "plt.subplot(211)        # allocate plot panel\n",
    "plt.plot(xx,pp);        # plot"
   ]
  },
  {
   "cell_type": "markdown",
   "metadata": {},
   "source": [
    "This could for example be the pdf of a stochastic noise variable. It could also describe our quantitative belief and uncertainty about a parameter (or state), which we model as randomness in the Bayesian view on probability."
   ]
  },
  {
   "cell_type": "markdown",
   "metadata": {},
   "source": [
    "**Exc 2.4:** From looking at the figure:\n",
    " * How does the pdf curve change when `b` changes?  \n",
    "   (alter the above code, and re-run the cell)\n",
    " * How does the pdf curve change when you increase `B`?  \n",
    " \n",
    " \n",
    "Re-set `B=25` and re-run (this is a convienient value for examples)"
   ]
  },
  {
   "cell_type": "markdown",
   "metadata": {},
   "source": [
    "**Exc 2.6:** Recall $p(x) = N(x \\mid b,B)$ from eqn (G1).  \n",
    "The following are helpful points to remember how it looks. Use pen, paper, and calculus.  \n",
    "Hint: it's usually easier to analyse $\\log p(x)$ rather than $p(x)$ itself.\n",
    " * (a) Where is the location of the mode (maximum) of the distribution? I.e. where $\\frac{d p}{d x}(x) = 0$.\n",
    " * (b) Where is the inflection point? I.e. where $\\frac{d^2 p}{d x^2}(x) = 0$.\n",
    " * (c) Some forms of \"sensitivy analysis\" (a basic form of uncertainty quantification) consist in evaluating $\\frac{d^2 p}{d x^2}(x)$ at the mode. Explain this by reference to the Gaussian shape.\n",
    "Hint: calculate and interpret $\\frac{d^2 p(x)}{d x^2}(b)$"
   ]
  },
  {
   "cell_type": "markdown",
   "metadata": {},
   "source": [
    "### The multivariate (i.e. vector) case\n",
    "Here's the pdf of the *multivariate* Gaussian:\n",
    "\\begin{align*}\n",
    "N(x \\mid  b,B) &= |2 \\pi B|^{-1/2} \\, \\exp\\Big(-\\frac{1}{2}\\|x-b\\|^2_B\\Big) \\, , \\qquad \\qquad (GM) \\\\\\\n",
    "\\end{align*}\n",
    "where $|.|$ represents the determinant, and $\\|.\\|_W$ represents the norm with weighting: $\\|x\\|^2_W = x^T W^{-1} x$.  \n",
    "\n",
    "The following implements this pdf. Take a moment to digest the code. But don't worry yet if you don't understand all of the details."
   ]
  },
  {
   "cell_type": "code",
   "execution_count": 9,
   "metadata": {
    "collapsed": true
   },
   "outputs": [],
   "source": [
    "from numpy.linalg import det, inv\n",
    "\n",
    "def weighted_norm22(xx,W):\n",
    "    \"Computes the norm of each row vector of xx, as weighted by W.\"\n",
    "    ww = np.sum((xx @ inv(W)) * xx, axis=1)    # \"vectorized\" (fast) version\n",
    "    #ww = array([ x @ inv(W) @ x for x in xx]) # \"loop\" version.\n",
    "    return ww\n",
    "\n",
    "def pdf_GM(xx,b,B):\n",
    "    \"pdf -- Gaussian, Multivariate: N(x|b,B)\"\n",
    "    return 1/sqrt(det(2*pi*B))*exp(-0.5*weighted_norm22(xx-b,B))"
   ]
  },
  {
   "cell_type": "markdown",
   "metadata": {},
   "source": [
    "Tips:\n",
    " * `@` produces matrix multiplication (`*` in `Matlab`);\n",
    " * `*` produces array multiplication (`.*` in `Matlab`);\n",
    " * `axis=1` makes `np.sum()` work along the horizontal dimension of a 2D-array (matrix);\n",
    " * `axis=0` makes `np.sum()` work along the vertical dimension."
   ]
  },
  {
   "cell_type": "markdown",
   "metadata": {},
   "source": [
    "The following code plots the pdf as contour (equi-density) curves.  \n",
    "*The plot appears in the above figure.*"
   ]
  },
  {
   "cell_type": "code",
   "execution_count": 10,
   "metadata": {
    "collapsed": false
   },
   "outputs": [],
   "source": [
    "# Grid\n",
    "def flatten(xxyy): return array([xi.ravel() for xi in xxyy]).T\n",
    "def  square(xyxy): return xyxy.reshape(int(sqrt(len(xyxy))),-1)\n",
    "\n",
    "grid = flatten(np.meshgrid(xx,xx))\n",
    "\n",
    "# Covariance specification\n",
    "corr = 0.7\n",
    "Cov = B * array([[1,corr],\n",
    "                 [corr,1]])\n",
    "# Eval\n",
    "pp = pdf_GM(grid, 0, Cov)\n",
    "pp = square(pp)\n",
    "\n",
    "# Plot\n",
    "plt.subplot(212).clear()\n",
    "plt.contour(xx,xx,pp)\n",
    "plt.axis('equal');"
   ]
  },
  {
   "cell_type": "markdown",
   "metadata": {},
   "source": [
    "**Exc 2.8:** How do the contours look? Try to understand why. Cases:\n",
    " * (a) correlation=0.    \n",
    " * (b) correlation=0.99.\n",
    " * (c) correlation=0.5. (Note that we've used `plt.axis('equal')`).\n",
    " * (d) correlation=0.5, but with non-equal variances."
   ]
  },
  {
   "cell_type": "markdown",
   "metadata": {},
   "source": [
    "**Exc 2.9:** Go play the [correlation game](http://guessthecorrelation.com/)"
   ]
  },
  {
   "cell_type": "markdown",
   "metadata": {},
   "source": [
    "# Bayes' rule\n",
    "Bayes' rule is how we do inference. For continuous random variables, $x$ and $y$, it reads:\n",
    "\n",
    "$$ p(x|y) = \\frac{p(x) \\, p(y|x)}{p(y)} \\, , \\qquad \\qquad (2)$$\n",
    "\n",
    "or, in words:\n",
    "\n",
    "\n",
    "$$\n",
    "\\text{\"posterior\" (pdf of $x$ given $y$)}\n",
    "\\; = \\;\n",
    "\\frac{\\text{\"prior\" (pdf of $x$)}\n",
    "\\; \\times \\;\n",
    "\\text{\"likelihood\" (pdf of $y$ given $x$)}}\n",
    "{\\text{\"normalization\" (pdf of $y$)}} \\, .\n",
    "$$"
   ]
  },
  {
   "cell_type": "markdown",
   "metadata": {},
   "source": [
    "**Example:** \n",
    " - You believe the temperature $(x)$ in the room is $22°C \\pm 2°C$;  \n",
    "more specifically, your (prior) belief is described by: $p(x) = N(x \\mid 22, 4)$.  \n",
    " - A thermometer yields the observation $y = 24°C \\pm 2°C$;  \n",
    "this yields the likelihood: $p(y|x) = N(24 \\mid x, 4)$. \n",
    " - Your updated belief is given by  $p(x) \\, p(y|x)$,  \n",
    "yielding the \"posterior\"/\"analysis\": $p(x|y) = N(x \\mid 23, 2)$  \n",
    "(exactly how these numbers are calculated will be shown below)."
   ]
  },
  {
   "cell_type": "markdown",
   "metadata": {},
   "source": [
    "**Exc 2.10:** Derive Bayes' rule from the definition of [conditional pdf's](https://en.wikipedia.org/wiki/Conditional_probability#Kolmogorov_definition)."
   ]
  },
  {
   "cell_type": "code",
   "execution_count": 11,
   "metadata": {
    "collapsed": false
   },
   "outputs": [],
   "source": [
    "#show_answer('BR derivation')"
   ]
  },
  {
   "cell_type": "markdown",
   "metadata": {},
   "source": [
    "**Exc 2.11*:** Laplace also independently (and more clearly) developed Bayes' rule, published in 1774. Some time therafter, the reasoning of \"inverse probability\" came to mean what we now call \"statistical inference\". Nowadays, \"inverse problems\" are often given a statistical interpretation. Considering this context, why do you think we use $x$ for the \"unknown\", and $y$ for the known (given) \"data\" ?"
   ]
  },
  {
   "cell_type": "code",
   "execution_count": 12,
   "metadata": {
    "collapsed": false
   },
   "outputs": [],
   "source": [
    "#show_answer('inverse')"
   ]
  },
  {
   "cell_type": "markdown",
   "metadata": {},
   "source": [
    "Computers generally work with discrete, numerical representations of mathematical entities.\n",
    "Numerically, pdfs may be represented by their `values` on a grid, such as `xx` from above. Bayes' rule (2) then consists of *grid-point-wise* multiplication, as shown below."
   ]
  },
  {
   "cell_type": "code",
   "execution_count": 13,
   "metadata": {
    "collapsed": true
   },
   "outputs": [],
   "source": [
    "def Bayes_rule(prior_values,lklhd_values,dx):\n",
    "    \"Numerical (pointwise) implementation of Bayes' rule.\"\n",
    "    pp = prior_values * lklhd_values   # pointwise multiplication\n",
    "    posterior_values = pp/(sum(pp)*dx) # normalization\n",
    "    return posterior_values"
   ]
  },
  {
   "cell_type": "markdown",
   "metadata": {},
   "source": [
    "**Exc 2.12:** Why does `Bayes_rule()` not need the denominator, $p(y)$, as input?"
   ]
  },
  {
   "cell_type": "code",
   "execution_count": 14,
   "metadata": {
    "collapsed": false
   },
   "outputs": [],
   "source": [
    "#show_answer('BR normalization')"
   ]
  },
  {
   "cell_type": "markdown",
   "metadata": {},
   "source": [
    "In fact, since normalization is so simple, we often don't bother to do it until we need it (for example, to compute the posterior mean; the formula $\\mathbb{E}(x|y) = \\int x \\, p(x) \\, dx \\approx$ `x*pp*dx` is only valid if `pp` has been normalized.). Therefore we often simplify Bayes' rule (2) as\n",
    "$$ p(x|y) \\propto p(x) \\, p(y|x) \\, .  \\qquad \\qquad (3) $$\n",
    "\n",
    "However, sometimes (e.g. non-parametric sampling methods), it is not so simple, and \"how to  normalize\" becomes an important question too.\n"
   ]
  },
  {
   "cell_type": "markdown",
   "metadata": {},
   "source": [
    "The code below show's Bayes' rule in action.  \n",
    "Again, remember that the only thing it's doing is multiplying the prior and likelihood at each gridpoint.  \n",
    "Move the sliders with the arrow keys to animate it."
   ]
  },
  {
   "cell_type": "code",
   "execution_count": 15,
   "metadata": {
    "collapsed": false
   },
   "outputs": [
    {
     "data": {
      "image/png": "[encoded data removed]",
      "text/plain": [
       "<matplotlib.figure.Figure at 0x1189d3b00>"
      ]
     },
     "metadata": {},
     "output_type": "display_data"
    }
   ],
   "source": [
    "%matplotlib inline\n",
    "\n",
    "# Fix the prior's parameters\n",
    "b = 0 # mean\n",
    "B = 1 # variance\n",
    "\n",
    "@interact(y=(-10,10,1),log_R=(-2,5,0.5))\n",
    "def animate_Bayes(y=4.0,log_R=1):\n",
    "\n",
    "    R = exp(log_R)\n",
    "\n",
    "    prior_vals = pdf_G1(xx,b,B)\n",
    "    lklhd_vals = pdf_G1(y,xx,R)\n",
    "    \n",
    "    postr_vals = Bayes_rule(prior_vals, lklhd_vals, xx[1]-xx[0])\n",
    "\n",
    "    plt.figure(figsize=(10,4))\n",
    "    plt.plot(xx,prior_vals, label='prior N(x|b,B)')\n",
    "    plt.plot(xx,lklhd_vals, label='likelihood N(y|x,R)')\n",
    "    plt.plot(xx,postr_vals, label='posterior - pointwise')\n",
    "    \n",
    "    ### Uncomment this block AFTER doing the Exc 2.24 ###\n",
    "    #mu, P = Bayes_rule_G1(b,B,y,R)\n",
    "    #postr_vals2 = pdf_G1(xx,mu,P)\n",
    "    #plt.plot(xx,postr_vals2,'--',label='posterior - parametric\\n N(x|mu,P)')\n",
    "    \n",
    "    plt.ylim(ymax=0.6)\n",
    "    plt.legend()\n",
    "    plt.show()"
   ]
  },
  {
   "cell_type": "markdown",
   "metadata": {},
   "source": [
    "**Exc 2.14:** Answer the following by moving the sliders and seeing what happens.\n",
    " * What happens to the posterior when $R \\rightarrow \\infty$ ?\n",
    " * What happens to the posterior when $R \\rightarrow 0$ ?\n",
    " * Move around $y$. What is the posterior's location (mean/mode) when $R = B$ ?\n",
    " * Does the posterior scale (width) depend on $y$?\n",
    " * Consider the shape (ignoring location & scale) of the posterior. Does it depend on $R$ or $y$?\n",
    " * Can you see a shortcut to computing this posterior rather than having to do the pointwise multiplication?"
   ]
  },
  {
   "cell_type": "markdown",
   "metadata": {},
   "source": [
    "**Exc 2.15*:** Implement a \"uniform\" (or \"flat\" or \"box\") distribution pdf and call it `pdf_U1(x,mu,P)`. These <a href=\"https://en.wikipedia.org/wiki/Uniform_distribution_(continuous)#Moments\">formulae</a> for its mean/variance will be useful. \n",
    "\n",
    "In the above animations, replace `pdf_G1` with your new `pdf_U1` (both for the prior and likelihood). Assure that everything is working correctly. \n",
    " - Why (in the figure) are the walls of the pdf (ever so slightly) inclined?\n",
    " - What happens when you move the prior and likelihood too far apart? Is the fault of the implementation, or the math, or the assumptions (uniform distribution)?\n",
    " - Re-do Exc 2.14, now with `pdf_U1`.\n",
    " - Now test a Gaussian prior with a uniform likelihood.\n",
    " - Restore `pdf_G1` (both the prior and likelihood) in the animation (for later use).\n",
    " "
   ]
  },
  {
   "cell_type": "code",
   "execution_count": 18,
   "metadata": {
    "collapsed": false
   },
   "outputs": [],
   "source": [
    "#show_answer('pdf_U1')"
   ]
  },
  {
   "cell_type": "code",
   "execution_count": 17,
   "metadata": {
    "collapsed": true
   },
   "outputs": [],
   "source": [
    "def pdf_U1(x,b,B):\n",
    "    # Univariate (scalar), Uniform pdf\n",
    "\n",
    "    pdf_values = ones((x-b).shape)\n",
    "\n",
    "    a = b - sqrt(3*B)\n",
    "    b = b + sqrt(3*B)\n",
    "\n",
    "    pdf_values[x<a] = 0\n",
    "    pdf_values[x>b] = 0\n",
    "\n",
    "    height = 1/(b-a)\n",
    "    pdf_values *= height\n",
    "\n",
    "    return pdf_values"
   ]
  },
  {
   "cell_type": "markdown",
   "metadata": {
    "collapsed": true
   },
   "source": [
    "### Gaussian-Gaussian Bayes\n",
    "\n",
    "The above animation shows Bayes' rule in 1 dimension. Previously, we saw how a Gaussian looks in 2 dimensions. Can you imagine how Bayes' rule looks in 2 dimensions? In higher dimensions, these things get difficult to imagine, let alone visualize.\n",
    "\n",
    "Similarly, the size of the calculations required for Bayes' rule poses a difficulty. Indeed, the following exercise shows that (pointwise) multiplication for all grid points becomes preposterious in high dimensions.\n",
    "\n",
    "**Exc 2.16:**\n",
    " * (a) How many point-multiplications are needed on a grid with $N$ points in $M$ dimensions? (Imagine an $M$-dimensional cube where each side has a grid with $N$ points on it)\n",
    " * (b) Suppose we model 15 physical quanitites, on each grid point, on a discretized surface model of Earth. Assume the resolution is $1^\\circ$ for latitude (110km), $1^\\circ$ for longitude. How many variables are there in total? This is the dimensionality ($M$) of the problem.\n",
    " * (c) Suppose each variable is has a pdf represented with a grid using only $N=10$ points. How many multiplications are necessary to calculate Bayes rule (jointly) for all variables on our Earth model?"
   ]
  },
  {
   "cell_type": "code",
   "execution_count": null,
   "metadata": {
    "collapsed": false
   },
   "outputs": [],
   "source": [
    "#show_answer('Dimensionality a')\n",
    "#show_answer('Dimensionality b')\n",
    "#show_answer('Dimensionality c')"
   ]
  },
  {
   "cell_type": "markdown",
   "metadata": {},
   "source": [
    "In response to this computational difficulty, we try to be smart and do something more analytical (\"pen-and-paper\"): we only compute the parameters (mean and (co)variance) of the posterior pdf.\n",
    "\n",
    "This is doable and quite simple in the Gaussian-Gaussian case.\n",
    "With a prior $p(x) = N(x \\mid b,B)$ and a likelihood $p(y|x) = N(y \\mid x,R)$, the posterior will be given by\n",
    "\\begin{align*}\n",
    "p(x|y)\n",
    "&= N(x|\\mu,P) \\qquad \\qquad (4) \n",
    "\\, ,\n",
    "\\end{align*}\n",
    "where, in the univarite (1-dimensional) case:\n",
    "\\begin{align*}\n",
    "    P &= 1/(1/B + 1/R) \\, , \\qquad \\qquad (5) \\\\\\\n",
    "  \\mu &= P(b/B + y/R) \\, .  \\qquad \\qquad (6) \n",
    "\\end{align*}\n",
    "\n",
    "The multivariate case is discussed in a later tutorial; for now, try to tackle exc 2.18."
   ]
  },
  {
   "cell_type": "markdown",
   "metadata": {},
   "source": [
    "#### Exc  2.18 'Gaussian Bayes':\n",
    "Derive the above expressions for $P$ and $\\mu$\n",
    "from Bayes' rule (3) and the expression for a Gaussian pdf (G1)."
   ]
  },
  {
   "cell_type": "code",
   "execution_count": null,
   "metadata": {
    "collapsed": false
   },
   "outputs": [],
   "source": [
    "#show_answer('BR Gauss')"
   ]
  },
  {
   "cell_type": "markdown",
   "metadata": {},
   "source": [
    "**Exc 2.20:** Do some light algebra to show that eqns (5) and (6) can be rewritten as\n",
    "\\begin{align*}\n",
    "    P &= (1-K)B \\, ,  \\qquad \\qquad (8) \\\\\\\n",
    "  \\mu &= b + K (y-b)  \\qquad \\quad (9) \\, ,\n",
    "\\end{align*}\n",
    "where $K = B/(B+R)$, which is called the \"Kalman gain\"."
   ]
  },
  {
   "cell_type": "markdown",
   "metadata": {},
   "source": [
    "**Exc 2.22*:** Consider the formula for $K$ and its role in the previous couple of equations. Why do you think $K$ is called a \"gain\"?"
   ]
  },
  {
   "cell_type": "code",
   "execution_count": null,
   "metadata": {
    "collapsed": false
   },
   "outputs": [],
   "source": [
    "#show_answer('KG intuition')"
   ]
  },
  {
   "cell_type": "markdown",
   "metadata": {},
   "source": [
    "**Exc 2.24:** Implement a Gaussian-Gaussian Bayes' rule (eqns 5 and 6, or eqns 8 and 9) by completing the code below."
   ]
  },
  {
   "cell_type": "code",
   "execution_count": null,
   "metadata": {
    "collapsed": true
   },
   "outputs": [],
   "source": [
    "def Bayes_rule_G1(b,B,y,R):\n",
    "    ### INSERT ANSWER HERE ###\n",
    "    return mu,P"
   ]
  },
  {
   "cell_type": "code",
   "execution_count": null,
   "metadata": {
    "collapsed": false
   },
   "outputs": [],
   "source": [
    "#show_answer('BR Gauss code')"
   ]
  },
  {
   "cell_type": "markdown",
   "metadata": {},
   "source": [
    "**Exc 2.26:** Go back to the above animation code, and uncomment the block that uses `Bayes_rule_G1()`. Re-run.  \n",
    "Make sure its curve coincides with that which uses pointwise multiplication (i.e. `Bayes_rule()`).\n",
    "This is the main secret of the \"Kalman filter\"."
   ]
  },
  {
   "cell_type": "markdown",
   "metadata": {},
   "source": [
    "**Exc 2.28:** Questions related to the above animation:\n",
    " * Does the width (i.e. scale) for the posterior depend on the location $y$ of the likelihood?\n",
    " * Note that the width (i.e. scale) for the posterior always smaller than that of prior and likelihood.\n",
    "   * What does this mean [information-wise](https://en.wikipedia.org/wiki/Differential_entropy#Differential_entropies_for_various_distributions)?\n",
    "   * Is this ordering also always true for non-Gaussian distributions?\n",
    " * Imagine that you're pretty sure about something, but then you get a wildly different indication (observation).  \n",
    "   What is your posterior uncertainty? Has it decreased?  \n",
    "   So, are you a Gaussian thinker?"
   ]
  },
  {
   "cell_type": "code",
   "execution_count": null,
   "metadata": {
    "collapsed": false
   },
   "outputs": [],
   "source": [
    "#show_answer('Posterior cov')"
   ]
  },
  {
   "cell_type": "markdown",
   "metadata": {},
   "source": [
    "**Exc 2.30*:** Why are we so fond of the Gaussian assumption?"
   ]
  },
  {
   "cell_type": "code",
   "execution_count": null,
   "metadata": {
    "collapsed": false
   },
   "outputs": [],
   "source": [
    "#show_answer('Why Gaussian')"
   ]
  },
  {
   "cell_type": "markdown",
   "metadata": {},
   "source": [
    "### Next: [Univariate (scalar) Kalman filtering](T3 - Univariate Kalman filtering.ipynb)"
   ]
  }
 ],
 "metadata": {
  "anaconda-cloud": {},
  "kernelspec": {
   "display_name": "Python [default]",
   "language": "python",
   "name": "python3"
  },
  "language_info": {
   "codemirror_mode": {
    "name": "ipython",
    "version": 3
   },
   "file_extension": ".py",
   "mimetype": "text/x-python",
   "name": "python",
   "nbconvert_exporter": "python",
   "pygments_lexer": "ipython3",
   "version": "3.5.2"
  },
  "widgets": {
   "state": {
    "ed5137140f4945b6a5e03084bf9ef917": {
     "views": [
      {
       "cell_index": 30
      }
     ]
    }
   },
   "version": "1.2.0"
  }
 },
 "nbformat": 4,
 "nbformat_minor": 1
}
